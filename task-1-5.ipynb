{
 "cells": [
  {
   "cell_type": "code",
   "execution_count": 8,
   "id": "0f5a6ad7-9dbb-45fc-908d-03cd909c58e5",
   "metadata": {},
   "outputs": [],
   "source": [
    "import joblib\n",
    "import numpy as np\n",
    "from sklearn.datasets import load_iris\n",
    "import pandas as pd"
   ]
  },
  {
   "cell_type": "code",
   "execution_count": 9,
   "id": "91998871-0fcd-4a22-a4be-c48c89f94205",
   "metadata": {},
   "outputs": [],
   "source": [
    "iris = load_iris()\n",
    "X = iris.data\n",
    "y = iris.target\n",
    "target_names = iris.target_names\n",
    "\n",
    "df = pd.DataFrame(X, columns=iris.feature_names)\n",
    "df['target'] = y\n",
    "\n",
    "samples = df.sample(3, random_state=42)\n",
    "X_sample = samples[iris.feature_names].values\n",
    "y_true = samples['target'].values"
   ]
  },
  {
   "cell_type": "code",
   "execution_count": 10,
   "id": "0d6d5bec-8c5d-47c0-8c8d-c268d9ca4fcb",
   "metadata": {},
   "outputs": [
    {
     "name": "stdout",
     "output_type": "stream",
     "text": [
      "Model: KNN\n",
      "--------------------------------------------------------------------------------\n",
      "Sample 1:\n",
      "  Sample       : [6.1 2.8 4.7 1.2]\n",
      "  True Label     : versicolor (1)\n",
      "  Predicted Label: versicolor (1)\n",
      "----------------------------------------\n",
      "Sample 2:\n",
      "  Sample       : [5.7 3.8 1.7 0.3]\n",
      "  True Label     : setosa (0)\n",
      "  Predicted Label: setosa (0)\n",
      "----------------------------------------\n",
      "Sample 3:\n",
      "  Sample       : [7.7 2.6 6.9 2.3]\n",
      "  True Label     : virginica (2)\n",
      "  Predicted Label: virginica (2)\n",
      "----------------------------------------\n",
      "Model: SVM\n",
      "--------------------------------------------------------------------------------\n",
      "Sample 1:\n",
      "  Sample       : [6.1 2.8 4.7 1.2]\n",
      "  True Label     : versicolor (1)\n",
      "  Predicted Label: versicolor (1)\n",
      "----------------------------------------\n",
      "Sample 2:\n",
      "  Sample       : [5.7 3.8 1.7 0.3]\n",
      "  True Label     : setosa (0)\n",
      "  Predicted Label: setosa (0)\n",
      "----------------------------------------\n",
      "Sample 3:\n",
      "  Sample       : [7.7 2.6 6.9 2.3]\n",
      "  True Label     : virginica (2)\n",
      "  Predicted Label: virginica (2)\n",
      "----------------------------------------\n",
      "Model: DecisionTree\n",
      "--------------------------------------------------------------------------------\n",
      "Sample 1:\n",
      "  Sample       : [6.1 2.8 4.7 1.2]\n",
      "  True Label     : versicolor (1)\n",
      "  Predicted Label: versicolor (1)\n",
      "----------------------------------------\n",
      "Sample 2:\n",
      "  Sample       : [5.7 3.8 1.7 0.3]\n",
      "  True Label     : setosa (0)\n",
      "  Predicted Label: setosa (0)\n",
      "----------------------------------------\n",
      "Sample 3:\n",
      "  Sample       : [7.7 2.6 6.9 2.3]\n",
      "  True Label     : virginica (2)\n",
      "  Predicted Label: virginica (2)\n",
      "----------------------------------------\n",
      "Model: GridSearchCV_KNN\n",
      "--------------------------------------------------------------------------------\n",
      "Sample 1:\n",
      "  Sample       : [6.1 2.8 4.7 1.2]\n",
      "  True Label     : versicolor (1)\n",
      "  Predicted Label: versicolor (1)\n",
      "----------------------------------------\n",
      "Sample 2:\n",
      "  Sample       : [5.7 3.8 1.7 0.3]\n",
      "  True Label     : setosa (0)\n",
      "  Predicted Label: setosa (0)\n",
      "----------------------------------------\n",
      "Sample 3:\n",
      "  Sample       : [7.7 2.6 6.9 2.3]\n",
      "  True Label     : virginica (2)\n",
      "  Predicted Label: virginica (2)\n",
      "----------------------------------------\n"
     ]
    }
   ],
   "source": [
    "model_names = [\"KNN\", \"SVM\", \"DecisionTree\", \"GridSearchCV_KNN\"]\n",
    "\n",
    "for name in model_names:\n",
    "    pipeline = joblib.load(f\"models/iris_{name}_pipeline.joblib\")\n",
    "    \n",
    "    y_pred = pipeline.predict(X_sample)\n",
    "    \n",
    "    print(f\"Model: {name}\")\n",
    "    print(\"-\" * 80)\n",
    "    for i in range(3):\n",
    "        print(f\"Sample {i+1}:\")\n",
    "        print(f\"  Sample       : {X_sample[i]}\")\n",
    "        print(f\"  True Label     : {target_names[y_true[i]]} ({y_true[i]})\")\n",
    "        print(f\"  Predicted Label: {target_names[y_pred[i]]} ({y_pred[i]})\")\n",
    "        print(\"-\" * 40)"
   ]
  },
  {
   "cell_type": "code",
   "execution_count": null,
   "id": "e2a94d38-fc57-4544-b2a8-9851234548ce",
   "metadata": {},
   "outputs": [],
   "source": []
  }
 ],
 "metadata": {
  "kernelspec": {
   "display_name": "Python [conda env:base] *",
   "language": "python",
   "name": "conda-base-py"
  },
  "language_info": {
   "codemirror_mode": {
    "name": "ipython",
    "version": 3
   },
   "file_extension": ".py",
   "mimetype": "text/x-python",
   "name": "python",
   "nbconvert_exporter": "python",
   "pygments_lexer": "ipython3",
   "version": "3.12.7"
  }
 },
 "nbformat": 4,
 "nbformat_minor": 5
}
